{
 "cells": [
  {
   "cell_type": "code",
   "execution_count": 1,
   "id": "8d8239a1",
   "metadata": {},
   "outputs": [],
   "source": [
    "import numpy as np\n",
    "import matplotlib.pyplot as plt\n",
    "import pandas as pd \n",
    "from impyute.imputation.cs import mice\n",
    "from sklearn import preprocessing\n",
    "from sklearn.preprocessing import MinMaxScaler\n",
    "from sklearn.model_selection import KFold\n",
    "from sklearn.metrics import mean_squared_error, r2_score\n",
    "from sklearn.model_selection import cross_val_predict\n",
    "import numpy as np\n",
    "from sklearn.metrics import plot_confusion_matrix\n",
    "import seaborn as sns\n",
    "from sklearn.svm import LinearSVC, SVC\n",
    "from sklearn.naive_bayes import GaussianNB\n",
    "from sklearn.discriminant_analysis import LinearDiscriminantAnalysis, QuadraticDiscriminantAnalysis\n",
    "from sklearn.neighbors import KNeighborsClassifier\n",
    "from sklearn.linear_model import LogisticRegression\n",
    "from sklearn.tree import DecisionTreeClassifier\n",
    "from sklearn.ensemble import RandomForestClassifier, GradientBoostingClassifier\n",
    "from sklearn.neural_network import MLPClassifier\n",
    "from sklearn.model_selection import train_test_split,cross_val_score, cross_val_predict\n",
    "from sklearn.metrics import confusion_matrix, accuracy_score, precision_recall_curve, roc_curve, plot_precision_recall_curve"
   ]
  },
  {
   "cell_type": "code",
   "execution_count": 2,
   "id": "3395b9d9",
   "metadata": {},
   "outputs": [],
   "source": [
    "%store -r shuf\n",
    "%store -r CLASSED_SDSS\n",
    "#print(len(CLASSED_SDSS[(CLASSED_SDSS['BLAZ']==1)])/(len(CLASSED_SDSS[(CLASSED_SDSS['BLAZ']==0)])))\n"
   ]
  },
  {
   "cell_type": "code",
   "execution_count": 3,
   "id": "61972e25",
   "metadata": {},
   "outputs": [
    {
     "name": "stdout",
     "output_type": "stream",
     "text": [
      "Stored 'DF_NOXR_2' (DataFrame)\n"
     ]
    }
   ],
   "source": [
    "\n",
    "CLASSED_SDSS_NOXR = CLASSED_SDSS[(CLASSED_SDSS['cat']!='BLAZXR')]\n",
    "CLASSED_SDSS_XR = CLASSED_SDSS[(CLASSED_SDSS['cat']=='BLAZXR')]\n",
    "CLASSED_SDSS_XR_matched = CLASSED_SDSS_XR[(CLASSED_SDSS_XR['BLAZ']==1)]\n",
    "CLASSED_SDSS_XR_unmatched = CLASSED_SDSS_XR[(CLASSED_SDSS_XR['BLAZ']==0)]\n",
    "CLASSED_SDSS_TRAIN = pd.concat([CLASSED_SDSS_NOXR,CLASSED_SDSS_XR_matched])\n",
    "\n",
    "mode  = CLASSED_SDSS_TRAIN['BLAZ'] \n",
    "\n",
    "\n",
    "#DF_NOXR_2 = pd.DataFrame(CLASSED_SDSS_TRAIN,columns=['Log_R_Flux','u-g','g-z','redshift','a_Rg','a_Rr','a_gu','a_ri','a_Ru','a_iz','a_zu','a_ru','a_iu','petroFlux_i','petroFlux_g'])\n",
    "DF_NOXR_2 = pd.DataFrame(CLASSED_SDSS_TRAIN,columns=['Log_R_Flux','u-g','g-z','redshift','a_Rr','a_ri','a_Ru','a_ru','a_iu','petroFlux_g'])\n",
    "\n",
    "#DF_NOXR_2 = pd.DataFrame(CLASSED_SDSS_TRAIN,columns=['z','Log_z_Flux','Log_R_Flux','g-z','a_Rr','R_maggies','a_rz','a_Ri','a_Rg','a_Ru','r-i'])\n",
    "#DF_NOXR_2 = pd.DataFrame(CLASSED_SDSS_TRAIN,columns=['Log_R_Flux','u-g','g-z','a_ru','a_gu','a_ri'])# really good svm\n",
    "#DF_NOXR_2 = pd.DataFrame(CLASSED_SDSS_TRAIN,columns=['z','Log_z_Flux','Log_R_Flux','g-z','a_Rr','a_Rg','a_rz']) #not bad\n",
    "#DF_NOXR_2 = pd.DataFrame(CLASSED_SDSS_TRAIN,columns=['u-g','Log_i_Flux','a_gu','petroFlux_z','Log_g_Flux','r-i','Log_R_Flux','a_ri','a_zu','a_rz','g-z'])\n",
    "#DF_NOXR_2 = pd.DataFrame(CLASSED_SDSS_TRAIN,columns=['a_Rr','a_Rg','a_Ri','a_Rz','a_Ru','a_ri','a_gi','a_rz','a_gz','a_iz','a_iu','a_zu']) v good slopes\n",
    "#DF_NOXR_2 = pd.DataFrame(CLASSED_SDSS_TRAIN,columns=['Log_Redshift','Log_R_Flux'])\n",
    "#DF_NOXR_2 = pd.DataFrame(CLASSED_SDSS_TRAIN,columns=['redshift','Log_R_Flux','a_Rr','a_Rg','a_Ri','a_Rz','a_Ru','a_ri','a_gi','a_rz','a_gz','a_iz','a_iu','a_zu','u-g','g'])\n",
    "#DF_NOXR_2 = pd.DataFrame(CLASSED_SDSS_TRAIN,columns=['u','petroFlux_z','petroFlux_i','Log_R_Flux','a_Rr','a_Rg','a_Ri','a_Rz','a_Ru','a_ri','a_rz','a_iz','petroFlux_u']) #not bad at all consistent\n",
    "#DF_NOXR_2 = pd.DataFrame(CLASSED_SDSS_TRAIN,columns=['u','petroFlux_z','petroFlux_i','Log_R_Flux','a_Rr','a_Rg','a_Ri','a_Rz','a_Ru','a_ri','a_rz','a_iz','petroFlux_u'])\n",
    "\n",
    "#DF_NOXR_2 = pd.DataFrame(CLASSED_SDSS_TRAIN,columns=['u','g-z','Log_z_Flux','Log_i_Flux','Log_R_Flux','a_Rr','a_Rg','a_Ri','a_Rz','a_ri','a_rz','a_iz','a_rg','Log_r_Flux','Log_u_Flux'])\n",
    "\n",
    "%store DF_NOXR_2\n",
    "\n",
    "imputed_NOXR_2 = mice(DF_NOXR_2.values)\n",
    "normalized_NOXR_2 = preprocessing.normalize(imputed_NOXR_2)\n",
    "scaler = MinMaxScaler(feature_range=(0,1))\n",
    "Scaled_data_2 = scaler.fit_transform(imputed_NOXR_2)\n",
    "#x_train,x_test,y_train,y_test = train_test_split(Scaled_data_2,mode,random_state=0,test_size=0.10\n",
    "x_train,x_test,y_train,y_test = train_test_split(Scaled_data_2,mode,random_state=0,test_size=0.1)\n",
    "\n",
    "                                                 \n",
    "\n",
    "# Mode_total  = shuf['BLAZ']\n",
    "# DF_NOXR_tot = pd.DataFrame(shuf,columns=['Log_R_Flux','u-g','g-z','redshift','a_Rg','a_Rr','a_gu','a_ri','a_Ru','a_iz','a_zu','a_ru','a_iu','petroFlux_u','petroFlux_i','petroFlux_g'])\n",
    "# #imputed_NOXR_tot = mice(DF_NOXR_tot.values)\n",
    "# #normalized_NOXR_tot = preprocessing.normalize(imputed_NOXR_tot)\n",
    "# #print(len(shuf[shuf['BLAZ']==0]))\n",
    "# predictions = pd.DataFrame(columns=['svc','mlpg','Knc','GBC','RFC','GNB'])\n"
   ]
  },
  {
   "cell_type": "code",
   "execution_count": 4,
   "id": "98bda9f0",
   "metadata": {},
   "outputs": [],
   "source": [
    "#scaler = MinMaxScaler(feature_range=(0,7))\n",
    "#Scaled_data_tot = scaler.fit_transform(imputed_NOXR_tot)\n",
    "#Scaled_data_tot = scaler.fit_transform(DF_NOXR_tot)\n"
   ]
  },
  {
   "cell_type": "code",
   "execution_count": 5,
   "id": "1ecd02f8",
   "metadata": {},
   "outputs": [],
   "source": [
    "#x_train_tot, x_test_tot, y_train_tot, y_test_tot = train_test_split(Scaled_data_tot, Mode_total,train_size=0.9)\n",
    "classifiers = [SVC(),\n",
    "               MLPClassifier(solver='adam',max_iter=2500),\n",
    "               KNeighborsClassifier(n_neighbors=3,n_jobs=1),\n",
    "               GradientBoostingClassifier(),\n",
    "               RandomForestClassifier(100),\n",
    "               GaussianNB()]\n",
    "#k= [1,2,3,4,5,6]\n",
    "# for cls in classifiers:\n",
    "#     cls.fit(x_train_tot, y_train_tot)"
   ]
  },
  {
   "cell_type": "code",
   "execution_count": 6,
   "id": "c77cbdd8",
   "metadata": {},
   "outputs": [
    {
     "name": "stderr",
     "output_type": "stream",
     "text": [
      "c:\\snek\\python39\\lib\\site-packages\\sklearn\\utils\\deprecation.py:87: FutureWarning: Function plot_confusion_matrix is deprecated; Function `plot_confusion_matrix` is deprecated in 1.0 and will be removed in 1.2. Use one of the class methods: ConfusionMatrixDisplay.from_predictions or ConfusionMatrixDisplay.from_estimator.\n",
      "  warnings.warn(msg, category=FutureWarning)\n"
     ]
    },
    {
     "name": "stdout",
     "output_type": "stream",
     "text": [
      "0.9361702127659575 0.9166666666666666 SVC\n"
     ]
    },
    {
     "name": "stderr",
     "output_type": "stream",
     "text": [
      "c:\\snek\\python39\\lib\\site-packages\\sklearn\\utils\\deprecation.py:87: FutureWarning: Function plot_confusion_matrix is deprecated; Function `plot_confusion_matrix` is deprecated in 1.0 and will be removed in 1.2. Use one of the class methods: ConfusionMatrixDisplay.from_predictions or ConfusionMatrixDisplay.from_estimator.\n",
      "  warnings.warn(msg, category=FutureWarning)\n",
      "c:\\snek\\python39\\lib\\site-packages\\sklearn\\utils\\deprecation.py:87: FutureWarning: Function plot_confusion_matrix is deprecated; Function `plot_confusion_matrix` is deprecated in 1.0 and will be removed in 1.2. Use one of the class methods: ConfusionMatrixDisplay.from_predictions or ConfusionMatrixDisplay.from_estimator.\n",
      "  warnings.warn(msg, category=FutureWarning)\n",
      "c:\\snek\\python39\\lib\\site-packages\\sklearn\\utils\\deprecation.py:87: FutureWarning: Function plot_confusion_matrix is deprecated; Function `plot_confusion_matrix` is deprecated in 1.0 and will be removed in 1.2. Use one of the class methods: ConfusionMatrixDisplay.from_predictions or ConfusionMatrixDisplay.from_estimator.\n",
      "  warnings.warn(msg, category=FutureWarning)\n"
     ]
    },
    {
     "name": "stdout",
     "output_type": "stream",
     "text": [
      "0.8936170212765957 0.875 MLPClassifier\n",
      "0.8297872340425532 0.8571428571428571 KNeighborsClassifier\n",
      "0.8723404255319149 0.8695652173913043 GradientBoostingClassifier\n"
     ]
    },
    {
     "name": "stderr",
     "output_type": "stream",
     "text": [
      "c:\\snek\\python39\\lib\\site-packages\\sklearn\\utils\\deprecation.py:87: FutureWarning: Function plot_confusion_matrix is deprecated; Function `plot_confusion_matrix` is deprecated in 1.0 and will be removed in 1.2. Use one of the class methods: ConfusionMatrixDisplay.from_predictions or ConfusionMatrixDisplay.from_estimator.\n",
      "  warnings.warn(msg, category=FutureWarning)\n",
      "c:\\snek\\python39\\lib\\site-packages\\sklearn\\utils\\deprecation.py:87: FutureWarning: Function plot_confusion_matrix is deprecated; Function `plot_confusion_matrix` is deprecated in 1.0 and will be removed in 1.2. Use one of the class methods: ConfusionMatrixDisplay.from_predictions or ConfusionMatrixDisplay.from_estimator.\n",
      "  warnings.warn(msg, category=FutureWarning)\n"
     ]
    },
    {
     "name": "stdout",
     "output_type": "stream",
     "text": [
      "0.8297872340425532 0.8571428571428571 RandomForestClassifier\n",
      "0.7872340425531915 0.782608695652174 GaussianNB\n"
     ]
    },
    {
     "data": {
      "image/png": "[encoded data removed]",
      "text/plain": [
       "<Figure size 1440x720 with 12 Axes>"
      ]
     },
     "metadata": {
      "needs_background": "light"
     },
     "output_type": "display_data"
    }
   ],
   "source": [
    "fig, axes = plt.subplots(nrows=2, ncols=3, figsize=(20,10))\n",
    "\n",
    "for cls, ax in zip(classifiers, axes.flatten()):\n",
    "    cls.fit(x_train, y_train)\n",
    "\n",
    "    plot_confusion_matrix(cls, \n",
    "                          x_test, \n",
    "                          y_test, \n",
    "                          ax=ax, \n",
    "                          cmap='Blues')#,\n",
    "                        # display_labels=Scaled_data['Classification'\n",
    "    ax.title.set_text(type(cls).__name__)\n",
    "    \n",
    "    r = cls.predict(x_test)\n",
    "    cm = confusion_matrix(y_test,r)\n",
    "    tp,tn,fp,fn = cm[1,1],cm[0,0],cm[0,1],cm[1,0]\n",
    "    efficiency = (tp+tn)/ (tp+tn+fp+fn)\n",
    "    completness = (tp)/(fp+tp)\n",
    "   #rows.append([r, cls + 1])\n",
    "    #acc = accuracy_score(y_test_tot,r)\n",
    "\n",
    "    print(efficiency,completness,type(cls).__name__)\n",
    "    \n",
    "   # print(type(cls).__name__)\n",
    "#plt.tight_layout()  \n",
    "#plt.show()"
   ]
  },
  {
   "cell_type": "code",
   "execution_count": 7,
   "id": "4c87c2ab",
   "metadata": {},
   "outputs": [],
   "source": [
    "test =[0.1,0.15]\n"
   ]
  },
  {
   "cell_type": "code",
   "execution_count": 8,
   "id": "19d07767",
   "metadata": {},
   "outputs": [],
   "source": [
    "# error_rfc_for = []\n",
    "# accuracy_for = []\n",
    "# for k in range (10,200,20):\n",
    "#     for N in range (3,8,1):\n",
    "        \n",
    "#         ForestN = RandomForestClassifier(n_estimators=k,max_features=N)\n",
    "#         ForestN.fit(x_train,y_train)\n",
    "#         y_pred = cross_val_predict(ForestN,x_test,y_test,cv = 5)\n",
    "        \n",
    "#         error_rfc_for.append([np.sqrt(mean_squared_error(y_pred,y_test)),k,N])\n",
    "#         accuracy_for.append([accuracy_score(y_pred,y_test),k,N])"
   ]
  },
  {
   "cell_type": "code",
   "execution_count": 9,
   "id": "4408b2a5",
   "metadata": {},
   "outputs": [],
   "source": [
    "# print(np.max(error_rfc_for, axis=0))\n",
    "# np.max(accuracy_for, axis=0)"
   ]
  },
  {
   "cell_type": "code",
   "execution_count": 10,
   "id": "361f88c6",
   "metadata": {},
   "outputs": [],
   "source": [
    "# ForestN = RandomForestClassifier(n_estimators=191,max_features=16)\n",
    "# ForestN.fit(x_train,y_train)\n",
    "\n",
    "# y_pred = cross_val_predict(ForestN,x_train,y_train,cv = 5)\n",
    "# acc = accuracy_score(y_pred,y_train)\n",
    "# acc\n",
    "# y_pred_2 = ForestN.predict(Scaled_data_2)\n",
    "# acc_2 = accuracy_score(y_pred_2,mode)\n",
    "# acc,acc_2"
   ]
  },
  {
   "cell_type": "code",
   "execution_count": 11,
   "id": "faacf49c",
   "metadata": {},
   "outputs": [],
   "source": [
    "# for cls, ax in zip(classifiers, axes.flatten()):\n",
    "#     cls.fit(x_train, y_train)\n",
    "\n",
    "#     plot_confusion_matrix(cls, \n",
    "#                           x_test, \n",
    "#                           y_test, \n",
    "#                           ax=ax, \n",
    "#                           cmap='Blues')#,\n",
    "#                         # display_labels=Scaled_data['Classification'\n",
    "#     ax.title.set_text(type(cls).__name__)\n",
    "    \n",
    "#     r = cls.predict(x_test)\n",
    "#     cm = confusion_matrix(y_test,r)\n",
    "#     tp,tn,fp,fn = cm[1,1],cm[0,0],cm[0,1],cm[1,0]\n",
    "#     efficiency = (tp+tn)/ (tp+tn+fp+fn)\n",
    "#     completness = (tp)/(fp+tp)\n",
    "#    #rows.append([r, cls + 1])\n",
    "#     #acc = accuracy_score(y_test_tot,r)\n",
    "\n",
    "#     print(efficiency,completness,type(cls).__name__)"
   ]
  },
  {
   "cell_type": "code",
   "execution_count": 12,
   "id": "13e0273f",
   "metadata": {},
   "outputs": [],
   "source": [
    "# RandomForestClassifier?\n"
   ]
  },
  {
   "cell_type": "code",
   "execution_count": 13,
   "id": "9dd036c0",
   "metadata": {},
   "outputs": [
    {
     "data": {
      "text/plain": [
       "(0.9148936170212766, 0.8436018957345972)"
      ]
     },
     "execution_count": 13,
     "metadata": {},
     "output_type": "execute_result"
    }
   ],
   "source": [
    "NN = MLPClassifier(solver='adam',max_iter=2500)\n",
    "NN.fit(x_train,y_train)\n",
    "NN_pred = NN.predict(x_test)\n",
    "\n",
    "acc_NN_split = accuracy_score(y_test,NN_pred)\n",
    "NN_pred_tot = NN.predict(x_train)\n",
    "\n",
    "acc_NN_tot = accuracy_score(y_train,NN_pred_tot)\n",
    "\n",
    "acc_NN_split,acc_NN_tot"
   ]
  },
  {
   "cell_type": "code",
   "execution_count": 14,
   "id": "c0182c3f",
   "metadata": {},
   "outputs": [
    {
     "data": {
      "text/plain": [
       "0.8297872340425532"
      ]
     },
     "execution_count": 14,
     "metadata": {},
     "output_type": "execute_result"
    }
   ],
   "source": [
    "knc = KNeighborsClassifier(n_neighbors=3,n_jobs=1)\n",
    "knc.fit(x_train,y_train)\n",
    "pred_knc = knc.predict(x_test)\n",
    "#pred_knc_2 = knc.predict(imputed_XR)\n",
    "acc_knc = accuracy_score(y_test,pred_knc)\n",
    "acc_knc"
   ]
  },
  {
   "cell_type": "code",
   "execution_count": 15,
   "id": "2287f937",
   "metadata": {},
   "outputs": [],
   "source": [
    "error_knc = []\n",
    "accuracy_knc = []\n",
    "for k in range (1,14,1):\n",
    "    for N in range (-2,4,3):\n",
    "        \n",
    "        kncN = KNeighborsClassifier(n_neighbors=k,n_jobs=N)\n",
    "        kncN.fit(x_train,y_train)\n",
    "        y_pred = kncN.predict(x_test)\n",
    "        #y_pred = cross_val_predict(kncN,x_test,y_test,cv = 5)\n",
    "        \n",
    "        error_knc.append([np.sqrt(mean_squared_error(y_pred,y_test)),k,N])\n",
    "        accuracy_knc.append([accuracy_score(y_pred,y_test),k,N])\n",
    "\n",
    "\n",
    "#(accuracy_knc)"
   ]
  },
  {
   "cell_type": "code",
   "execution_count": 16,
   "id": "3973a138",
   "metadata": {},
   "outputs": [
    {
     "data": {
      "text/plain": [
       "array([ 0.89361702, 13.        ,  1.        ])"
      ]
     },
     "execution_count": 16,
     "metadata": {},
     "output_type": "execute_result"
    }
   ],
   "source": [
    "np.max(accuracy_knc,axis=0)"
   ]
  },
  {
   "cell_type": "code",
   "execution_count": 17,
   "id": "8345418e",
   "metadata": {},
   "outputs": [
    {
     "name": "stdout",
     "output_type": "stream",
     "text": [
      "Training accuracy: 87.44075829383885\n",
      "Test accuracy: 82.97872340425532\n"
     ]
    }
   ],
   "source": [
    "\n",
    "\n",
    "#forest.fit(x_train, y_train)\n",
    "\n",
    "print('Training accuracy:', np.mean(knc.predict(x_train) == y_train)*100)\n",
    "print('Test accuracy:', np.mean(knc.predict(x_test) == y_test)*100)\n",
    "\n",
    "#importance_vals = forest.feature_importances_\n",
    "#print(importance_vals)"
   ]
  },
  {
   "cell_type": "code",
   "execution_count": 18,
   "id": "dbbc0880",
   "metadata": {},
   "outputs": [],
   "source": [
    "from mlxtend.evaluate import feature_importance_permutation\n",
    "from sklearn.datasets import make_classification\n",
    "\n"
   ]
  },
  {
   "cell_type": "code",
   "execution_count": 19,
   "id": "ca78cfa3",
   "metadata": {},
   "outputs": [
    {
     "name": "stdout",
     "output_type": "stream",
     "text": [
      "Training accuracy: 99.76303317535546\n",
      "Test accuracy: 82.97872340425532\n",
      "[0.13191933 0.08951329 0.10005249 0.06634827 0.12838249 0.12376512\n",
      " 0.08253991 0.10349755 0.07527545 0.0987061 ]\n"
     ]
    }
   ],
   "source": [
    "forest = RandomForestClassifier(n_estimators=25,max_depth=10,random_state=0)\n",
    "\n",
    "forest.fit(x_train, y_train)\n",
    "\n",
    "print('Training accuracy:', np.mean(forest.predict(x_train) == y_train)*100)\n",
    "print('Test accuracy:', np.mean(forest.predict(x_test) == y_test)*100)\n",
    "\n",
    "importance_vals = forest.feature_importances_\n",
    "print(importance_vals)"
   ]
  },
  {
   "cell_type": "code",
   "execution_count": 20,
   "id": "bd2e63f9",
   "metadata": {},
   "outputs": [],
   "source": [
    "# error_for = []\n",
    "# accuracy_for = []\n",
    "# for k in range (50,150,25):\n",
    "#     for i in range (5, 30,5):\n",
    "#         forestN = RandomForestClassifier(n_estimators=k, max_depth=i)\n",
    "\n",
    "#         forestN.fit(x_train,y_train)\n",
    "#         y_pred = forestN.predict(x_test)\n",
    "#        # y_pred = cross_val_predict(ForestN,x_test,y_test,cv = 5)\n",
    "#         acc_forest = accuracy_score(y_test,y_pred)\n",
    "\n",
    "#         error_for.append([np.sqrt(mean_squared_error(y_pred,y_test)),acc_forest,i,k])\n",
    "        \n",
    "# plt.plot(range(1,201,10),error_for)    \n",
    "\n",
    "error_for = []\n",
    "accuracy_for = []\n",
    "for k in range (25,151,25):\n",
    "    for N in range (5,30,5):\n",
    "        \n",
    "        ForestN = RandomForestClassifier(n_estimators=k,max_depth=N,random_state=0)\n",
    "        ForestN.fit(x_train,y_train)\n",
    "        y_pred = ForestN.predict(x_test)\n",
    "        #y_pred = cross_val_predict(ForestN,x_test,y_test,cv = 5)\n",
    "        \n",
    "        error_for.append([np.sqrt(mean_squared_error(y_pred,y_test)),k,N])\n",
    "        accuracy_for.append([accuracy_score(y_pred,y_test),k,N])\n",
    "\n",
    "\n",
    "#(accuracy_for)\n"
   ]
  },
  {
   "cell_type": "code",
   "execution_count": 21,
   "id": "09ca1c26",
   "metadata": {},
   "outputs": [
    {
     "data": {
      "text/plain": [
       "array([  0.87234043, 150.        ,  25.        ])"
      ]
     },
     "execution_count": 21,
     "metadata": {},
     "output_type": "execute_result"
    }
   ],
   "source": [
    "np.max(accuracy_for,axis=0)"
   ]
  },
  {
   "cell_type": "code",
   "execution_count": 22,
   "id": "85849328",
   "metadata": {},
   "outputs": [
    {
     "data": {
      "image/png": "[encoded data removed]",
      "text/plain": [
       "<Figure size 864x864 with 1 Axes>"
      ]
     },
     "metadata": {
      "needs_background": "light"
     },
     "output_type": "display_data"
    }
   ],
   "source": [
    "std = np.std([tree.feature_importances_ for tree in forest.estimators_],\n",
    "             axis=0)\n",
    "indices = np.argsort(importance_vals)[::-1]\n",
    "\n",
    "# Plot the feature importances of the forest\n",
    "plt.figure(figsize = (12,12))\n",
    "plt.rcParams.update({'font.size': 16})\n",
    "\n",
    "plt.title(\"Random Forest feature importance\")\n",
    "plt.bar(range(Scaled_data_2.shape[1]), importance_vals[indices], align=\"center\")\n",
    "plt.xticks(range(Scaled_data_2.shape[1]), indices)\n",
    "plt.xlim([-1, Scaled_data_2.shape[1]])\n",
    "plt.ylim([0, 0.5])\n",
    "plt.show()"
   ]
  },
  {
   "cell_type": "code",
   "execution_count": 23,
   "id": "c1aaecff",
   "metadata": {},
   "outputs": [
    {
     "data": {
      "image/png": "[encoded data removed]",
      "text/plain": [
       "<Figure size 864x864 with 1 Axes>"
      ]
     },
     "metadata": {
      "needs_background": "light"
     },
     "output_type": "display_data"
    }
   ],
   "source": [
    "imp_vals, _ = feature_importance_permutation(\n",
    "    predict_method=knc.predict, \n",
    "    X=x_test,\n",
    "    y=y_test,\n",
    "    metric='accuracy',\n",
    "    num_rounds=1,\n",
    "    seed=1)\n",
    "\n",
    "imp_vals\n",
    "indices = np.argsort(imp_vals)[::-1]\n",
    "plt.figure(figsize = (12,12))\n",
    "plt.title(\"KNC importance via permutation importance\")\n",
    "plt.bar(range(Scaled_data_2.shape[1]), imp_vals[indices])\n",
    "plt.xticks(range(Scaled_data_2.shape[1]), indices)\n",
    "plt.xlim([-1, Scaled_data_2.shape[1]])\n",
    "plt.ylim([0, 0.5])\n",
    "plt.show()"
   ]
  },
  {
   "cell_type": "code",
   "execution_count": 24,
   "id": "01ce78e9",
   "metadata": {},
   "outputs": [
    {
     "data": {
      "image/png": "[encoded data removed]",
      "text/plain": [
       "<Figure size 432x288 with 1 Axes>"
      ]
     },
     "metadata": {
      "needs_background": "light"
     },
     "output_type": "display_data"
    }
   ],
   "source": [
    "imp_vals, _ = feature_importance_permutation(\n",
    "    predict_method=forest.predict, \n",
    "    X=x_test,\n",
    "    y=y_test,\n",
    "    metric='accuracy',\n",
    "    num_rounds=1,\n",
    "    seed=1)\n",
    "\n",
    "imp_vals\n",
    "\n",
    "indices = np.argsort(imp_vals)[::-1]\n",
    "plt.figure()\n",
    "plt.title(\"KNC importance via permutation importance\")\n",
    "plt.bar(range(Scaled_data_2.shape[1]), imp_vals[indices])\n",
    "plt.xticks(range(Scaled_data_2.shape[1]), indices)\n",
    "plt.xlim([-1, Scaled_data_2.shape[1]])\n",
    "plt.ylim([0, 0.5])\n",
    "plt.show()"
   ]
  },
  {
   "cell_type": "code",
   "execution_count": 25,
   "id": "d8249b32",
   "metadata": {},
   "outputs": [
    {
     "data": {
      "image/png": "[encoded data removed]",
      "text/plain": [
       "<Figure size 432x288 with 1 Axes>"
      ]
     },
     "metadata": {
      "needs_background": "light"
     },
     "output_type": "display_data"
    }
   ],
   "source": [
    "imp_vals, imp_all = feature_importance_permutation(\n",
    "    predict_method=knc.predict, \n",
    "    X=x_test,\n",
    "    y=x_test,\n",
    "    metric='accuracy',\n",
    "    num_rounds=10,\n",
    "    seed=1)\n",
    "\n",
    "\n",
    "std = np.std(imp_all, axis=1)\n",
    "indices = np.argsort(imp_vals)[::-1]\n",
    "\n",
    "plt.figure()\n",
    "plt.title(\"Random Forest feature importance via permutation importance w. std. dev.\")\n",
    "plt.bar(range(Scaled_data_2.shape[1]), imp_vals[indices],\n",
    "        yerr=std[indices])\n",
    "plt.xticks(range(Scaled_data_2.shape[1]), indices)\n",
    "plt.xlim([-1, Scaled_data_2.shape[1]])\n",
    "plt.show()"
   ]
  },
  {
   "cell_type": "code",
   "execution_count": 26,
   "id": "9b6f6f2e",
   "metadata": {},
   "outputs": [
    {
     "data": {
      "text/plain": [
       "0.8997867803837953"
      ]
     },
     "execution_count": 26,
     "metadata": {},
     "output_type": "execute_result"
    }
   ],
   "source": [
    "knc = KNeighborsClassifier(n_neighbors=2,n_jobs=1)\n",
    "knc.fit(Scaled_data_2,mode)\n",
    "pred_knc = knc.predict(Scaled_data_2)\n",
    "#pred_knc_2 = knc.predict(imputed_XR)\n",
    "acc_knc = accuracy_score(mode,pred_knc)\n",
    "acc_knc"
   ]
  },
  {
   "cell_type": "code",
   "execution_count": 27,
   "id": "0e4661ca",
   "metadata": {},
   "outputs": [
    {
     "data": {
      "text/plain": [
       "[[1.0, 1, -2],\n",
       " [1.0, 1, 1],\n",
       " [0.8997867803837953, 2, -2],\n",
       " [0.8997867803837953, 2, 1],\n",
       " [0.8848614072494669, 3, -2],\n",
       " [0.8848614072494669, 3, 1],\n",
       " [0.8571428571428571, 4, -2],\n",
       " [0.8571428571428571, 4, 1],\n",
       " [0.8486140724946695, 5, -2],\n",
       " [0.8486140724946695, 5, 1],\n",
       " [0.8315565031982942, 6, -2],\n",
       " [0.8315565031982942, 6, 1],\n",
       " [0.8166311300639659, 7, -2],\n",
       " [0.8166311300639659, 7, 1],\n",
       " [0.8208955223880597, 8, -2],\n",
       " [0.8208955223880597, 8, 1],\n",
       " [0.814498933901919, 9, -2],\n",
       " [0.814498933901919, 9, 1],\n",
       " [0.8230277185501066, 10, -2],\n",
       " [0.8230277185501066, 10, 1],\n",
       " [0.814498933901919, 11, -2],\n",
       " [0.814498933901919, 11, 1],\n",
       " [0.8230277185501066, 12, -2],\n",
       " [0.8230277185501066, 12, 1],\n",
       " [0.8123667377398721, 13, -2],\n",
       " [0.8123667377398721, 13, 1]]"
      ]
     },
     "execution_count": 27,
     "metadata": {},
     "output_type": "execute_result"
    }
   ],
   "source": [
    "error_knc = []\n",
    "accuracy_knc = []\n",
    "for k in range (1,14,1):\n",
    "    for N in range (-2,4,3):\n",
    "        \n",
    "        kncN = KNeighborsClassifier(n_neighbors=k,n_jobs=N)\n",
    "        kncN.fit(Scaled_data_2,mode)\n",
    "        pred_knc = kncN.predict(Scaled_data_2)\n",
    "            #y_pred = cross_val_predict(kncN,x_test,y_test,cv = 5)\n",
    "        \n",
    "        error_knc.append([np.sqrt(mean_squared_error(pred_knc,mode)),k,N])\n",
    "        accuracy_knc.append([accuracy_score(pred_knc,mode),k,N])\n",
    "\n",
    "accuracy_knc\n",
    "#(accuracy_knc)"
   ]
  },
  {
   "cell_type": "code",
   "execution_count": 28,
   "id": "aa86a6d9",
   "metadata": {},
   "outputs": [
    {
     "name": "stdout",
     "output_type": "stream",
     "text": [
      "Training accuracy: 98.72068230277186\n",
      "Test accuracy: 100.0\n",
      "[0.13032893 0.09565489 0.11075849 0.06531521 0.12649861 0.1294102\n",
      " 0.08964807 0.08471178 0.06775275 0.09992107]\n"
     ]
    }
   ],
   "source": [
    "forest = RandomForestClassifier(n_estimators=25,max_depth=10,random_state=0)\n",
    "\n",
    "forest.fit(Scaled_data_2,mode)\n",
    "\n",
    "print('Training accuracy:', np.mean(forest.predict(Scaled_data_2) == mode)*100)\n",
    "print('Test accuracy:', np.mean(forest.predict(x_test) == y_test)*100)\n",
    "\n",
    "importance_vals = forest.feature_importances_\n",
    "print(importance_vals)"
   ]
  },
  {
   "cell_type": "code",
   "execution_count": 29,
   "id": "5275ccba",
   "metadata": {},
   "outputs": [],
   "source": [
    "error_for = []\n",
    "accuracy_for = []\n",
    "for k in range (25,151,25):\n",
    "    for N in range (5,30,5):\n",
    "        \n",
    "        ForestN = RandomForestClassifier(n_estimators=k,max_depth=N,random_state=0)\n",
    "        ForestN.fit(Scaled_data_2,mode)\n",
    "        y_pred = ForestN.predict(Scaled_data_2)\n",
    "        #y_pred = cross_val_predict(ForestN,x_test,y_test,cv = 5)\n",
    "        \n",
    "        error_for.append([np.sqrt(mean_squared_error(y_pred,mode)),k,N])\n",
    "        accuracy_for.append([accuracy_score(y_pred,mode),k,N])"
   ]
  },
  {
   "cell_type": "code",
   "execution_count": 30,
   "id": "adc904f0",
   "metadata": {},
   "outputs": [
    {
     "data": {
      "text/plain": [
       "[[0.8955223880597015, 25, 5],\n",
       " [0.9872068230277186, 25, 10],\n",
       " [0.997867803837953, 25, 15],\n",
       " [0.997867803837953, 25, 20],\n",
       " [0.997867803837953, 25, 25],\n",
       " [0.9104477611940298, 50, 5],\n",
       " [0.9936034115138592, 50, 10],\n",
       " [1.0, 50, 15],\n",
       " [1.0, 50, 20],\n",
       " [1.0, 50, 25],\n",
       " [0.9040511727078892, 75, 5],\n",
       " [0.9957356076759062, 75, 10],\n",
       " [1.0, 75, 15],\n",
       " [1.0, 75, 20],\n",
       " [1.0, 75, 25],\n",
       " [0.9019189765458422, 100, 5],\n",
       " [0.9957356076759062, 100, 10],\n",
       " [1.0, 100, 15],\n",
       " [1.0, 100, 20],\n",
       " [1.0, 100, 25],\n",
       " [0.8976545842217484, 125, 5],\n",
       " [0.9957356076759062, 125, 10],\n",
       " [1.0, 125, 15],\n",
       " [1.0, 125, 20],\n",
       " [1.0, 125, 25],\n",
       " [0.9019189765458422, 150, 5],\n",
       " [0.9957356076759062, 150, 10],\n",
       " [1.0, 150, 15],\n",
       " [1.0, 150, 20],\n",
       " [1.0, 150, 25]]"
      ]
     },
     "execution_count": 30,
     "metadata": {},
     "output_type": "execute_result"
    }
   ],
   "source": [
    "accuracy_for"
   ]
  },
  {
   "cell_type": "code",
   "execution_count": null,
   "id": "6f673f99",
   "metadata": {},
   "outputs": [],
   "source": []
  },
  {
   "cell_type": "code",
   "execution_count": null,
   "id": "8c94b923",
   "metadata": {},
   "outputs": [],
   "source": []
  },
  {
   "cell_type": "code",
   "execution_count": null,
   "id": "881b8d75",
   "metadata": {},
   "outputs": [],
   "source": []
  }
 ],
 "metadata": {
  "kernelspec": {
   "display_name": "Python 3 (ipykernel)",
   "language": "python",
   "name": "python3"
  },
  "language_info": {
   "codemirror_mode": {
    "name": "ipython",
    "version": 3
   },
   "file_extension": ".py",
   "mimetype": "text/x-python",
   "name": "python",
   "nbconvert_exporter": "python",
   "pygments_lexer": "ipython3",
   "version": "3.9.6"
  }
 },
 "nbformat": 4,
 "nbformat_minor": 5
}
